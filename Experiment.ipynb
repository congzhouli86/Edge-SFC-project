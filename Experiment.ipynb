{
 "cells": [
  {
   "cell_type": "code",
   "execution_count": 10,
   "metadata": {},
   "outputs": [],
   "source": [
    "import sys\n",
    "import math\n",
    "import random\n",
    "\n",
    "import gym\n",
    "import numpy as np\n",
    "\n",
    "import torch\n",
    "import torch.nn as nn\n",
    "import torch.optim as optim\n",
    "import torch.nn.functional as F\n",
    "from torch.distributions import Categorical\n",
    "\n",
    "import EdgeNW"
   ]
  },
  {
   "cell_type": "code",
   "execution_count": 11,
   "metadata": {},
   "outputs": [],
   "source": [
    "from IPython.display import clear_output\n",
    "import matplotlib.pyplot as plt\n",
    "%matplotlib inline"
   ]
  },
  {
   "cell_type": "code",
   "execution_count": 12,
   "metadata": {},
   "outputs": [],
   "source": [
    "# Using CUDA \n",
    "use_cuda = torch.cuda.is_available() \n",
    "device   = torch.device(\"cuda\" if use_cuda else \"cpu\")"
   ]
  },
  {
   "cell_type": "code",
   "execution_count": 19,
   "metadata": {},
   "outputs": [
    {
     "name": "stdout",
     "output_type": "stream",
     "text": [
      "I am AP node 0, my serive type is src. \n",
      "I am AP node 1, my serive type is src. \n",
      "I am AP node 2, my serive type is dst. \n",
      "I am AP node 3, my serive type is dst. \n",
      "I am container node 4, I can hold 5 containers. \n",
      "I am container node 5, I can hold 5 containers. \n",
      "I am container node 6, I can hold 5 containers. \n",
      "I am container node 7, I can hold 5 containers. \n",
      "I am container node 8, I can hold 5 containers. \n",
      "I am container node 9, I can hold 5 containers. \n",
      "I am container node 10, I can hold 5 containers. \n",
      "I am container node 11, I can hold 5 containers. \n",
      "I am container node 12, I can hold 5 containers. \n",
      "I am container node 13, I can hold 5 containers. \n",
      "I am directed link 0 from 0 to 4, I can hold 100 traffics. \n",
      "I am directed link 1 from 0 to 5, I can hold 100 traffics. \n",
      "I am directed link 2 from 1 to 5, I can hold 100 traffics. \n",
      "I am directed link 3 from 1 to 6, I can hold 100 traffics. \n",
      "I am directed link 4 from 2 to 11, I can hold 100 traffics. \n",
      "I am directed link 5 from 2 to 12, I can hold 100 traffics. \n",
      "I am directed link 6 from 3 to 12, I can hold 100 traffics. \n",
      "I am directed link 7 from 3 to 13, I can hold 100 traffics. \n",
      "I am directed link 8 from 4 to 4, I can hold 100 traffics. \n",
      "I am directed link 9 from 4 to 5, I can hold 100 traffics. \n",
      "I am directed link 10 from 4 to 5, I can hold 100 traffics. \n",
      "I am directed link 11 from 5 to 6, I can hold 100 traffics. \n",
      "I am directed link 12 from 5 to 11, I can hold 100 traffics. \n",
      "I am directed link 13 from 5 to 12, I can hold 100 traffics. \n",
      "I am directed link 14 from 5 to 12, I can hold 100 traffics. \n",
      "I am directed link 15 from 6 to 13, I can hold 100 traffics. \n",
      "I am directed link 16 from 6 to 4, I can hold 100 traffics. \n",
      "I am directed link 17 from 6 to 5, I can hold 100 traffics. \n",
      "I am directed link 18 from 11 to 7, I can hold 100 traffics. \n",
      "I am directed link 19 from 11 to 8, I can hold 100 traffics. \n",
      "I am directed link 20 from 11 to 9, I can hold 100 traffics. \n",
      "I am directed link 21 from 12 to 7, I can hold 100 traffics. \n",
      "I am directed link 22 from 12 to 8, I can hold 100 traffics. \n",
      "I am directed link 23 from 12 to 9, I can hold 100 traffics. \n",
      "I am directed link 24 from 12 to 10, I can hold 100 traffics. \n",
      "I am directed link 25 from 13 to 8, I can hold 100 traffics. \n",
      "I am directed link 26 from 13 to 9, I can hold 100 traffics. \n",
      "I am directed link 27 from 13 to 10, I can hold 100 traffics. \n"
     ]
    }
   ],
   "source": [
    "# initiating network entities\n",
    "ap_num = 4 # number of edge access nodes\n",
    "c_num = 10 # number of computing nodes\n",
    "n_num = ap_num + c_num  # number of nodes in the topology\n",
    "l_num = 28 # number of logical links\n",
    "ap = []\n",
    "for i in range(ap_num):\n",
    "    if i < (ap_num / 2):\n",
    "        ap.append(EdgeNW.AP_node(i, 'src'))\n",
    "    else:\n",
    "        ap.append(EdgeNW.AP_node(i, 'dst'))\n",
    "    ap[i].self_report()\n",
    "\n",
    "n = []\n",
    "for i in range(c_num):\n",
    "    n.append(EdgeNW.C_node(ap_num + i, 5))\n",
    "    n[i].self_report()\n",
    "\n",
    "# initiating topology connections\n",
    "l = []\n",
    "l.append(EdgeNW.D_link(0, 0, 4))\n",
    "l.append(EdgeNW.D_link(1, 0, 5))\n",
    "l.append(EdgeNW.D_link(2, 1, 5))\n",
    "l.append(EdgeNW.D_link(3, 1, 6))\n",
    "l.append(EdgeNW.D_link(4, 2, 11))\n",
    "l.append(EdgeNW.D_link(5, 2, 12))\n",
    "l.append(EdgeNW.D_link(6, 3, 12))\n",
    "l.append(EdgeNW.D_link(7, 3, 13))\n",
    "\n",
    "l.append(EdgeNW.D_link(8, 4, 4))\n",
    "l.append(EdgeNW.D_link(9, 4, 5))\n",
    "l.append(EdgeNW.D_link(10, 4, 5))\n",
    "l.append(EdgeNW.D_link(11, 5, 6))\n",
    "l.append(EdgeNW.D_link(12, 5, 11))\n",
    "l.append(EdgeNW.D_link(13, 5, 12))\n",
    "l.append(EdgeNW.D_link(14, 5, 12))\n",
    "l.append(EdgeNW.D_link(15, 6, 13))\n",
    "l.append(EdgeNW.D_link(16, 6, 4))\n",
    "l.append(EdgeNW.D_link(17, 6, 5))\n",
    "\n",
    "l.append(EdgeNW.D_link(18, 11, 7))\n",
    "l.append(EdgeNW.D_link(19, 11, 8))\n",
    "l.append(EdgeNW.D_link(20, 11, 9))\n",
    "l.append(EdgeNW.D_link(21, 12, 7))\n",
    "l.append(EdgeNW.D_link(22, 12, 8))\n",
    "l.append(EdgeNW.D_link(23, 12, 9))\n",
    "l.append(EdgeNW.D_link(24, 12, 10))\n",
    "l.append(EdgeNW.D_link(25, 13, 8))\n",
    "l.append(EdgeNW.D_link(26, 13, 9))\n",
    "l.append(EdgeNW.D_link(27, 13, 10))\n",
    "\n",
    "for i in range(l_num):\n",
    "    l[i].self_report()\n",
    "\n"
   ]
  },
  {
   "cell_type": "code",
   "execution_count": null,
   "metadata": {},
   "outputs": [],
   "source": []
  }
 ],
 "metadata": {
  "kernelspec": {
   "display_name": "base",
   "language": "python",
   "name": "python3"
  },
  "language_info": {
   "codemirror_mode": {
    "name": "ipython",
    "version": 3
   },
   "file_extension": ".py",
   "mimetype": "text/x-python",
   "name": "python",
   "nbconvert_exporter": "python",
   "pygments_lexer": "ipython3",
   "version": "3.9.13"
  },
  "orig_nbformat": 4,
  "vscode": {
   "interpreter": {
    "hash": "b09ec625f77bf4fd762565a912b97636504ad6ec901eb2d0f4cf5a7de23e1ee5"
   }
  }
 },
 "nbformat": 4,
 "nbformat_minor": 2
}
